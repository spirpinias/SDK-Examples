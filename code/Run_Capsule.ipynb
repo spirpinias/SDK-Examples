{
 "cells": [
  {
   "cell_type": "code",
   "execution_count": null,
   "id": "f72265e4-992e-415f-b37b-3d8e3b0cf0a8",
   "metadata": {},
   "outputs": [],
   "source": [
    "# This is a demonstration of basic use cases for the Code Ocean SDK."
   ]
  },
  {
   "cell_type": "code",
   "execution_count": null,
   "id": "8e32a318-d7fe-4c16-83a2-f1e2bc925be7",
   "metadata": {},
   "outputs": [],
   "source": [
    "from codeocean import CodeOcean\n",
    "from codeocean.computation import RunParams, DataAssetsRunParam\n",
    "from codeocean.data_asset import (\n",
    "    DataAssetParams,\n",
    "    Source,\n",
    "    ComputationSource,\n",
    "    AWSS3Source,\n",
    ")"
   ]
  },
  {
   "cell_type": "code",
   "execution_count": null,
   "id": "2c86b58c-0366-4286-81fb-3e523949f5a7",
   "metadata": {},
   "outputs": [],
   "source": [
    "# Create the client using your domain and API token. If not available, you can generate one.\n",
    "\n",
    "client = CodeOcean(domain='https://{your_domain}.codeocean.com', token='cop_ZDky')"
   ]
  },
  {
   "cell_type": "code",
   "execution_count": null,
   "id": "ea0ec1c8-2928-4991-9e83-92793d4f512e",
   "metadata": {},
   "outputs": [],
   "source": [
    "# Creating a Data Asset from Public AWS S3 \n",
    "\n",
    "data_asset_params = DataAssetParams(\n",
    "        name=\"Dataset From SDK\",\n",
    "        description=\"This Data Asset is a Public Asset\",\n",
    "        mount=\"References\",\n",
    "        tags=[\"Bioinformatics\",\"RNA\"],\n",
    "        source=Source(\n",
    "            aws=AWSS3Source(\n",
    "                bucket=\"codeocean-public-data\",\n",
    "                prefix=f\"unit_test/Reads/Sample_{number}/\",\n",
    "                public=True,\n",
    "                keep_on_external_storage=False\n",
    "                )))\n",
    "\n",
    "data_asset = client.data_assets.create_data_asset(data_asset_params)\n",
    "\n",
    "data_asset = client.data_assets.wait_until_ready(data_asset)"
   ]
  },
  {
   "cell_type": "code",
   "execution_count": null,
   "id": "debca6cb-5b1b-429c-af6b-41fae164a0e5",
   "metadata": {},
   "outputs": [],
   "source": [
    "# Manually - Go to Apps Library - Duplicate FastQC - Extract the Capsule's ID."
   ]
  },
  {
   "cell_type": "code",
   "execution_count": null,
   "id": "276dc90a-6eb0-4536-ab1a-f385bcebb7f3",
   "metadata": {},
   "outputs": [],
   "source": [
    "# Parameterize the Capsule and Mount the Data Asset from S3 into FastQC.\n",
    "\n",
    "run_params = RunParams(\n",
    "    capsule_id='eb082456-d031-4a42-80b0-f209b8728927', # FastQC ID Goes Here.\n",
    "    data_assets=[\n",
    "        DataAssetsRunParam(\n",
    "            id=data_asset.id,\n",
    "            mount=\"Reads\",\n",
    "        ),\n",
    "    ],\n",
    "parameters=[\"1\"]\n",
    "    )\n",
    "\n",
    "computation = client.computations.run_capsule(run_params)\n",
    "\n",
    "# Wait for Capsule to finish.\n",
    "\n",
    "computation = client.computations.wait_until_completed(computation)"
   ]
  },
  {
   "cell_type": "code",
   "execution_count": null,
   "id": "4bc2bb78-4d13-4bfd-a8e2-f6ee593e08f0",
   "metadata": {},
   "outputs": [],
   "source": [
    "# Capture the Result\n",
    "\n",
    "result_params = DataAssetParams(\n",
    "        name=\"SDK-Result\",\n",
    "        description=\"My result from FastQC\",\n",
    "        mount=\"QualityControl\",\n",
    "        tags=[\"Bioinformatics\",\"Results\"],\n",
    "        source=Source(\n",
    "            computation=ComputationSource(\n",
    "                id=computation.id        \n",
    "            ),\n",
    "        )\n",
    "    )\n",
    "    \n",
    "result = client.data_assets.create_data_asset(result_params)\n",
    "\n",
    "result = client.data_assets.wait_until_ready(result)"
   ]
  }
 ],
 "metadata": {
  "kernelspec": {
   "display_name": "Python 3 (ipykernel)",
   "language": "python",
   "name": "python3"
  },
  "language_info": {
   "codemirror_mode": {
    "name": "ipython",
    "version": 3
   },
   "file_extension": ".py",
   "mimetype": "text/x-python",
   "name": "python",
   "nbconvert_exporter": "python",
   "pygments_lexer": "ipython3",
   "version": "3.11.0"
  }
 },
 "nbformat": 4,
 "nbformat_minor": 5
}
