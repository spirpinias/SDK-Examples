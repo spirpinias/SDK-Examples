{
 "cells": [
  {
   "cell_type": "code",
   "execution_count": null,
   "id": "6f3736ba-c912-48e3-b571-e372efbdede8",
   "metadata": {},
   "outputs": [],
   "source": [
    "# This is a demonstration of basic use cases for the Code Ocean SDK."
   ]
  },
  {
   "cell_type": "code",
   "execution_count": null,
   "id": "9297c33c-2a2b-4690-a888-a6684e7f5e4c",
   "metadata": {},
   "outputs": [],
   "source": [
    "from codeocean import CodeOcean\n",
    "from codeocean.computation import RunParams, DataAssetsRunParam, PipelineProcessParams\n",
    "from codeocean.data_asset import (\n",
    "    DataAssetParams,\n",
    "    Source,\n",
    "    ComputationSource,\n",
    "    AWSS3Source,\n",
    "    Target,\n",
    "    AWSS3Target\n",
    ")"
   ]
  },
  {
   "cell_type": "code",
   "execution_count": null,
   "id": "5bd54ea1-4a1e-41f1-af9d-912e4d953ace",
   "metadata": {},
   "outputs": [],
   "source": [
    "# Create the client using your domain and API token. If not available, you can generate one.\n",
    "\n",
    "client = CodeOcean(domain='https://{your_domain}.codeocean.com', token='cop_ZDky')"
   ]
  },
  {
   "cell_type": "code",
   "execution_count": null,
   "id": "4047c54f-d427-459a-9fdf-96caef63596b",
   "metadata": {},
   "outputs": [],
   "source": [
    "# Creating an Internal Data Asset from Public AWS S3 \n",
    "\n",
    "data_asset_params = DataAssetParams(\n",
    "        name=\"Dataset From SDK\",\n",
    "        description=\"This Data Asset is a Public Asset\",\n",
    "        mount=\"References\",\n",
    "        tags=[\"Bioinformatics\",\"RNA\"],\n",
    "        source=Source(\n",
    "            aws=AWSS3Source(\n",
    "                bucket=\"codeocean-public-data\",\n",
    "                prefix=f\"unit_test/Reads/Sample_{number}/\",\n",
    "                public=True,\n",
    "                keep_on_external_storage=False\n",
    "                )))\n",
    "\n",
    "data_asset = client.data_assets.create_data_asset(data_asset_params)\n",
    "\n",
    "data_asset = client.data_assets.wait_until_ready(data_asset)"
   ]
  },
  {
   "cell_type": "code",
   "execution_count": null,
   "id": "c8770167-8842-41bf-87ab-debe4b99e780",
   "metadata": {},
   "outputs": [],
   "source": [
    "# Manually - Create a New Pipeline - Add the Data Asset from S3 to the Pipeline - Drag onto the UI \n",
    "# Drag FastQC and MultiQC onto the UI and Attach the Data Asset to FastQC - Set Connection Type to Default.\n",
    "# FastQC will be connected to MultiQC - Set Connection Type to Collect.\n",
    "# MultiQC will be connected to the Results Bucket. "
   ]
  },
  {
   "cell_type": "code",
   "execution_count": null,
   "id": "ca9bd4f4-481f-45ad-b239-defb9c56f0f0",
   "metadata": {},
   "outputs": [],
   "source": [
    "data_assets=[\n",
    "        DataAssetsRunParam(id=data_asset.id,\n",
    "                              mount=\"Reads\")\n",
    "        ]    \n",
    "    \n",
    "processes=[\n",
    "          PipelineProcessParams(\n",
    "                    name=\"capsule_fastqc\", # This name can be found in /pipeline/main.nf - search for fastQC\n",
    "                    parameters=[\n",
    "                        \"1\"\n",
    "                        ]\n",
    "                  ),\n",
    "        PipelineProcessParams(\n",
    "                    name=\"capsule_multiqc\", # This name can be found in /pipeline/main.nf - search for multiqc\n",
    "                    parameters=[\n",
    "                        \"myReport\"\n",
    "                        ]\n",
    "                  ),\n",
    "        ]\n",
    "        \n",
    "run_params = RunParams(\n",
    "                    pipeline_id=\"4bc97533-6eb4-48ac-966f-648548a756d2\",\n",
    "                    data_assets=data_assets,\n",
    "                    processes=processes    \n",
    "               )\n",
    "\n",
    "computation = client.computations.run_capsule(run_params)\n",
    "\n",
    "# Wait for Pipeline to finish.\n",
    "\n",
    "computation = client.computations.wait_until_completed(computation)"
   ]
  }
 ],
 "metadata": {
  "kernelspec": {
   "display_name": "Python 3 (ipykernel)",
   "language": "python",
   "name": "python3"
  },
  "language_info": {
   "codemirror_mode": {
    "name": "ipython",
    "version": 3
   },
   "file_extension": ".py",
   "mimetype": "text/x-python",
   "name": "python",
   "nbconvert_exporter": "python",
   "pygments_lexer": "ipython3",
   "version": "3.11.0"
  }
 },
 "nbformat": 4,
 "nbformat_minor": 5
}
